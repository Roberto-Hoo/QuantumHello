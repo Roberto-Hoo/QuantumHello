{
 "cells": [
  {
   "cell_type": "code",
   "execution_count": 1,
   "metadata": {},
   "outputs": [
    {
     "data": {
      "application/json": "[\"SampleQuantumRandomNumberGenerator\"]",
      "text/html": [
       "<ul><li>SampleQuantumRandomNumberGenerator</li></ul>"
      ],
      "text/plain": [
       "SampleQuantumRandomNumberGenerator"
      ]
     },
     "execution_count": 1,
     "metadata": {},
     "output_type": "execute_result"
    }
   ],
   "source": [
    "operation SampleQuantumRandomNumberGenerator() : Result {\n",
    "    using (q = Qubit())  { // Allocate a qubit.\n",
    "        H(q);             // Put the qubit to superposition. It now has a 50% chance of being 0 or 1.\n",
    "        let r = M(q);     // Measure the qubit value.\n",
    "        Reset(q);\n",
    "        return r;\n",
    "    }\n",
    "}"
   ]
  },
  {
   "cell_type": "code",
   "execution_count": 2,
   "metadata": {},
   "outputs": [
    {
     "data": {
      "application/json": "0",
      "text/plain": [
       "Zero"
      ]
     },
     "execution_count": 2,
     "metadata": {},
     "output_type": "execute_result"
    }
   ],
   "source": [
    "%simulate SampleQuantumRandomNumberGenerator"
   ]
  },
  {
   "cell_type": "code",
   "execution_count": 4,
   "metadata": {},
   "outputs": [
    {
     "data": {
      "application/json": "[\"GenerateRandomBit\"]",
      "text/html": [
       "<ul><li>GenerateRandomBit</li></ul>"
      ],
      "text/plain": [
       "GenerateRandomBit"
      ]
     },
     "execution_count": 4,
     "metadata": {},
     "output_type": "execute_result"
    }
   ],
   "source": [
    "\n",
    "    open Microsoft.Quantum.Canon;\n",
    "    open Microsoft.Quantum.Intrinsic;\n",
    "    open Microsoft.Quantum.Diagnostics;\n",
    "    open Microsoft.Quantum.Measurement;\n",
    "\n",
    "    @EntryPoint()\n",
    "    operation GenerateRandomBit() : Result {\n",
    "        using (q = Qubit()) {\n",
    "            Message(\"Initialized qubit:\");\n",
    "            DumpMachine();\n",
    "            Message(\" \");\n",
    "            H(q);\n",
    "            Message(\"Qubit after applying H:\");\n",
    "            DumpMachine();\n",
    "            Message(\" \");\n",
    "            let randomBit = M(q);\n",
    "            Message(\"Qubit after the measurement:\");\n",
    "            DumpMachine();\n",
    "            Message(\" \");\n",
    "            Reset(q);\n",
    "            Message(\"Qubit after resetting:\");\n",
    "            DumpMachine();\n",
    "            Message(\" \");\n",
    "            return randomBit;\n",
    "        }\n",
    "    }\n"
   ]
  },
  {
   "cell_type": "code",
   "execution_count": null,
   "metadata": {},
   "outputs": [],
   "source": []
  },
  {
   "cell_type": "code",
   "execution_count": null,
   "metadata": {},
   "outputs": [],
   "source": []
  },
  {
   "cell_type": "code",
   "execution_count": null,
   "metadata": {},
   "outputs": [],
   "source": []
  }
 ],
 "metadata": {
  "kernelspec": {
   "display_name": "Q#",
   "language": "qsharp",
   "name": "iqsharp"
  },
  "language_info": {
   "file_extension": ".qs",
   "mimetype": "text/x-qsharp",
   "name": "qsharp",
   "version": "0.12"
  }
 },
 "nbformat": 4,
 "nbformat_minor": 4
}
